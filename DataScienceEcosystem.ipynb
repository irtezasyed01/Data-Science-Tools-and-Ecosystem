{
 "cells": [
  {
   "cell_type": "markdown",
   "id": "31602c71-aa7e-4aec-a431-4cd3017d3b24",
   "metadata": {},
   "source": [
    "<h1>Data Science Tools and Ecosystem</h1>"
   ]
  },
  {
   "cell_type": "markdown",
   "id": "3a1d52ec-59c2-4e6e-aeab-a6b3729a4146",
   "metadata": {},
   "source": [
    "In this notebook, Data Science Tools and Ecosystem are summarized."
   ]
  },
  {
   "cell_type": "markdown",
   "id": "200fba8c-aaf0-4a8c-b966-62e133901f95",
   "metadata": {},
   "source": [
    "**Objectives:**\n",
    "- List popular languages for Data Science.\n",
    "- Identify commonly used libraries in Data Science.\n",
    "- Introduce arithmetic expression examples in Python.\n",
    "- Demonstrate evaluating arithmetic expressions.\n",
    "- Perform arithmetic operations with code examples.\n",
    "- Convert minutes to hours using Python.\n",
    "- Provide an overview of key takeaways from the course."
   ]
  },
  {
   "cell_type": "markdown",
   "id": "bbea8808-0204-4fac-853f-9ea087451f22",
   "metadata": {},
   "source": [
    "Some of the popular languages that Data Scientists use are:\n",
    "<ol>\n",
    "    <li>\n",
    "Python: Python is one of the most popular programming languages for data science. It has a rich ecosystem of libraries and frameworks like NumPy, pandas, scikit-learn, TensorFlow, and PyTorch that make data manipulation, analysis, and machine learning tasks efficient. </li>\n",
    "    <li>\n",
    "R: R is another popular language among data scientists, particularly for statistical analysis and data visualization. It has a wide range of packages for statistical modeling, data visualization (ggplot2), and data manipulation (dplyr).</li>\n",
    "    <li>\n",
    "SQL: SQL (Structured Query Language) is essential for working with databases. Data scientists often use SQL to query, manipulate, and manage large datasets stored in relational databases.</li>\n",
    "    <li>Julia: Julia is a high-performance programming language designed for technical computing. It's gaining popularity in the data science community due to its speed and ability to perform complex numerical computations.</li>\n",
    "\n",
    "<li>Scala: Scala is commonly used for data engineering tasks in big data ecosystems like Apache Spark. It combines functional and object-oriented programming and is well-suited for distributed data processing.</li>\n",
    "    </ol>"
   ]
  },
  {
   "cell_type": "markdown",
   "id": "ddf6bdab-8ca6-49bf-8867-254deceb9e4a",
   "metadata": {},
   "source": [
    "Here are three commonly used libraries in data science:\n",
    "<ol>\n",
    "    <li>\n",
    "NumPy: NumPy is a fundamental package for numerical computing in Python. It provides support for arrays, matrices, and mathematical functions, making it essential for data manipulation, transformation, and mathematical operations.\n",
    "</li>\n",
    "<li>\n",
    "pandas: pandas is a powerful data manipulation and analysis library for Python. It provides data structures like DataFrames and Series that enable efficient handling of structured data, data cleaning, transformation, and analysis.\n",
    "</li><li>\n",
    "scikit-learn: scikit-learn is a machine learning library for Python. It offers a wide range of tools for classification, regression, clustering, dimensionality reduction, and more. It's widely used for implementing machine learning algorithms and evaluating model performance.\n",
    "</li>\n",
    "</ol>"
   ]
  },
  {
   "cell_type": "markdown",
   "id": "8bc168c7-59b9-495a-a361-a3f0bec00d85",
   "metadata": {},
   "source": [
    "| Data Science Tools |\n",
    "|--------------------|\n",
    "| Jupyter Notebook  |\n",
    "| RStudio            |\n",
    "| Visual Studio Code|"
   ]
  },
  {
   "cell_type": "markdown",
   "id": "4a3a329b-63ec-4dc6-8d7f-d8cd07280461",
   "metadata": {},
   "source": [
    "### Below are a few examples of evaluating arithmetic expressions in Python."
   ]
  },
  {
   "cell_type": "code",
   "execution_count": 1,
   "id": "b41d7883-13da-4c39-b78d-798f75e9ac08",
   "metadata": {
    "tags": []
   },
   "outputs": [
    {
     "name": "stdout",
     "output_type": "stream",
     "text": [
      "17\n"
     ]
    }
   ],
   "source": [
    "# This is a simple arithmetic expression to multiply then add integers.\n",
    "result = (3 * 4) + 5\n",
    "print(result)  # Output: 17"
   ]
  },
  {
   "cell_type": "code",
   "execution_count": 2,
   "id": "c035bb59-3f39-438b-8752-db380a23e918",
   "metadata": {
    "tags": []
   },
   "outputs": [
    {
     "name": "stdout",
     "output_type": "stream",
     "text": [
      "3.3333333333333335\n"
     ]
    }
   ],
   "source": [
    "# This will convert 200 minutes to hours by dividing by 60.\n",
    "minutes = 200\n",
    "hours = minutes / 60\n",
    "print(hours)  # Output: 3.3333333333333335"
   ]
  },
  {
   "cell_type": "markdown",
   "id": "329c767e-b538-4728-85a4-77ffe39f6c92",
   "metadata": {},
   "source": [
    "## Author\n",
    "Irteza Hussain"
   ]
  }
 ],
 "metadata": {
  "kernelspec": {
   "display_name": "Python",
   "language": "python",
   "name": "conda-env-python-py"
  },
  "language_info": {
   "codemirror_mode": {
    "name": "ipython",
    "version": 3
   },
   "file_extension": ".py",
   "mimetype": "text/x-python",
   "name": "python",
   "nbconvert_exporter": "python",
   "pygments_lexer": "ipython3",
   "version": "3.7.12"
  }
 },
 "nbformat": 4,
 "nbformat_minor": 5
}
